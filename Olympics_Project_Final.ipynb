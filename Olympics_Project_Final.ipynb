{
 "cells": [
  {
   "cell_type": "code",
   "execution_count": 1,
   "metadata": {},
   "outputs": [],
   "source": [
    "# Import Dependencies\n",
    "import matplotlib.pyplot as plt\n",
    "import pandas as pd\n",
    "import numpy as np\n",
    "import requests\n",
    "import json\n",
    "from scipy.stats import linregress\n",
    "import matplotlib.patches as mpatches"
   ]
  },
  {
   "cell_type": "code",
   "execution_count": 2,
   "metadata": {},
   "outputs": [],
   "source": [
    "#Create Varibles for CSV files\n",
    "athlete_data_to_load = 'raw data files/Olympic data/athlete_events.csv'\n",
    "summer_data_to_load = 'raw data files/Olympic data/summer.csv'\n",
    "winter_data_to_load = 'raw data files/Olympic data/winter.csv'\n",
    "\n",
    "population_data_to_load = 'raw data files/Clean Data/2018_populations.csv'\n",
    "summer_edited_load = 'raw data files/Clean Data/summer_edited.csv'\n",
    "winter_edited_load = 'raw data files/Clean Data/winter_edited.csv'\n",
    "athlete_data_to_load = 'raw data files/Olympic data/athlete_events.csv'"
   ]
  },
  {
   "cell_type": "code",
   "execution_count": 3,
   "metadata": {},
   "outputs": [],
   "source": [
    "#Read in CSV files\n",
    "athlete_data = pd.read_csv(athlete_data_to_load)\n",
    "summer_data = pd.read_csv(summer_data_to_load)\n",
    "winter_data = pd.read_csv(summer_data_to_load)\n",
    "\n",
    "population_data = pd.read_csv(population_data_to_load)\n",
    "summer_edited = pd.read_csv(summer_edited_load)\n",
    "winter_edited = pd.read_csv(winter_edited_load)\n",
    "athlete_data = pd.read_csv(athlete_data_to_load)"
   ]
  },
  {
   "cell_type": "code",
   "execution_count": 4,
   "metadata": {
    "scrolled": true
   },
   "outputs": [
    {
     "data": {
      "text/html": [
       "<div>\n",
       "<style scoped>\n",
       "    .dataframe tbody tr th:only-of-type {\n",
       "        vertical-align: middle;\n",
       "    }\n",
       "\n",
       "    .dataframe tbody tr th {\n",
       "        vertical-align: top;\n",
       "    }\n",
       "\n",
       "    .dataframe thead th {\n",
       "        text-align: right;\n",
       "    }\n",
       "</style>\n",
       "<table border=\"1\" class=\"dataframe\">\n",
       "  <thead>\n",
       "    <tr style=\"text-align: right;\">\n",
       "      <th></th>\n",
       "      <th>ID</th>\n",
       "      <th>Name</th>\n",
       "      <th>Sex</th>\n",
       "      <th>Age</th>\n",
       "      <th>Height</th>\n",
       "      <th>Weight</th>\n",
       "      <th>NOC</th>\n",
       "      <th>Games</th>\n",
       "      <th>Year</th>\n",
       "      <th>Season</th>\n",
       "      <th>City</th>\n",
       "      <th>Sport</th>\n",
       "      <th>Event</th>\n",
       "      <th>Medal</th>\n",
       "    </tr>\n",
       "    <tr>\n",
       "      <th>Team</th>\n",
       "      <th></th>\n",
       "      <th></th>\n",
       "      <th></th>\n",
       "      <th></th>\n",
       "      <th></th>\n",
       "      <th></th>\n",
       "      <th></th>\n",
       "      <th></th>\n",
       "      <th></th>\n",
       "      <th></th>\n",
       "      <th></th>\n",
       "      <th></th>\n",
       "      <th></th>\n",
       "      <th></th>\n",
       "    </tr>\n",
       "  </thead>\n",
       "  <tbody>\n",
       "    <tr>\n",
       "      <th>United States</th>\n",
       "      <td>17847</td>\n",
       "      <td>17847</td>\n",
       "      <td>17847</td>\n",
       "      <td>17610</td>\n",
       "      <td>14295</td>\n",
       "      <td>13791</td>\n",
       "      <td>17847</td>\n",
       "      <td>17847</td>\n",
       "      <td>17847</td>\n",
       "      <td>17847</td>\n",
       "      <td>17847</td>\n",
       "      <td>17847</td>\n",
       "      <td>17847</td>\n",
       "      <td>5219</td>\n",
       "    </tr>\n",
       "    <tr>\n",
       "      <th>France</th>\n",
       "      <td>11988</td>\n",
       "      <td>11988</td>\n",
       "      <td>11988</td>\n",
       "      <td>10877</td>\n",
       "      <td>8096</td>\n",
       "      <td>7853</td>\n",
       "      <td>11988</td>\n",
       "      <td>11988</td>\n",
       "      <td>11988</td>\n",
       "      <td>11988</td>\n",
       "      <td>11988</td>\n",
       "      <td>11988</td>\n",
       "      <td>11988</td>\n",
       "      <td>1550</td>\n",
       "    </tr>\n",
       "    <tr>\n",
       "      <th>Great Britain</th>\n",
       "      <td>11404</td>\n",
       "      <td>11404</td>\n",
       "      <td>11404</td>\n",
       "      <td>10731</td>\n",
       "      <td>7667</td>\n",
       "      <td>7574</td>\n",
       "      <td>11404</td>\n",
       "      <td>11404</td>\n",
       "      <td>11404</td>\n",
       "      <td>11404</td>\n",
       "      <td>11404</td>\n",
       "      <td>11404</td>\n",
       "      <td>11404</td>\n",
       "      <td>1673</td>\n",
       "    </tr>\n",
       "    <tr>\n",
       "      <th>Italy</th>\n",
       "      <td>10260</td>\n",
       "      <td>10260</td>\n",
       "      <td>10260</td>\n",
       "      <td>9922</td>\n",
       "      <td>7772</td>\n",
       "      <td>7462</td>\n",
       "      <td>10260</td>\n",
       "      <td>10260</td>\n",
       "      <td>10260</td>\n",
       "      <td>10260</td>\n",
       "      <td>10260</td>\n",
       "      <td>10260</td>\n",
       "      <td>10260</td>\n",
       "      <td>1527</td>\n",
       "    </tr>\n",
       "    <tr>\n",
       "      <th>Germany</th>\n",
       "      <td>9326</td>\n",
       "      <td>9326</td>\n",
       "      <td>9326</td>\n",
       "      <td>9180</td>\n",
       "      <td>7092</td>\n",
       "      <td>7032</td>\n",
       "      <td>9326</td>\n",
       "      <td>9326</td>\n",
       "      <td>9326</td>\n",
       "      <td>9326</td>\n",
       "      <td>9326</td>\n",
       "      <td>9326</td>\n",
       "      <td>9326</td>\n",
       "      <td>1984</td>\n",
       "    </tr>\n",
       "  </tbody>\n",
       "</table>\n",
       "</div>"
      ],
      "text/plain": [
       "                  ID   Name    Sex    Age  Height  Weight    NOC  Games  \\\n",
       "Team                                                                      \n",
       "United States  17847  17847  17847  17610   14295   13791  17847  17847   \n",
       "France         11988  11988  11988  10877    8096    7853  11988  11988   \n",
       "Great Britain  11404  11404  11404  10731    7667    7574  11404  11404   \n",
       "Italy          10260  10260  10260   9922    7772    7462  10260  10260   \n",
       "Germany         9326   9326   9326   9180    7092    7032   9326   9326   \n",
       "\n",
       "                Year  Season   City  Sport  Event  Medal  \n",
       "Team                                                      \n",
       "United States  17847   17847  17847  17847  17847   5219  \n",
       "France         11988   11988  11988  11988  11988   1550  \n",
       "Great Britain  11404   11404  11404  11404  11404   1673  \n",
       "Italy          10260   10260  10260  10260  10260   1527  \n",
       "Germany         9326    9326   9326   9326   9326   1984  "
      ]
     },
     "execution_count": 4,
     "metadata": {},
     "output_type": "execute_result"
    }
   ],
   "source": [
    "#Clean and organize the data\n",
    "athlete_data_grouped = athlete_data.groupby('Team')\n",
    "athlete_data_grouped.count().sort_values(by = 'Name', ascending = False).head(5)"
   ]
  },
  {
   "cell_type": "code",
   "execution_count": 5,
   "metadata": {},
   "outputs": [
    {
     "data": {
      "text/html": [
       "<div>\n",
       "<style scoped>\n",
       "    .dataframe tbody tr th:only-of-type {\n",
       "        vertical-align: middle;\n",
       "    }\n",
       "\n",
       "    .dataframe tbody tr th {\n",
       "        vertical-align: top;\n",
       "    }\n",
       "\n",
       "    .dataframe thead th {\n",
       "        text-align: right;\n",
       "    }\n",
       "</style>\n",
       "<table border=\"1\" class=\"dataframe\">\n",
       "  <thead>\n",
       "    <tr style=\"text-align: right;\">\n",
       "      <th></th>\n",
       "      <th>ID</th>\n",
       "      <th>Name</th>\n",
       "      <th>Sex</th>\n",
       "      <th>Age</th>\n",
       "      <th>Height</th>\n",
       "      <th>Weight</th>\n",
       "      <th>Team</th>\n",
       "      <th>NOC</th>\n",
       "      <th>Games</th>\n",
       "      <th>Year</th>\n",
       "      <th>Season</th>\n",
       "      <th>City</th>\n",
       "      <th>Sport</th>\n",
       "      <th>Event</th>\n",
       "      <th>Medal</th>\n",
       "    </tr>\n",
       "  </thead>\n",
       "  <tbody>\n",
       "    <tr>\n",
       "      <th>0</th>\n",
       "      <td>1</td>\n",
       "      <td>A Dijiang</td>\n",
       "      <td>M</td>\n",
       "      <td>24.0</td>\n",
       "      <td>180.0</td>\n",
       "      <td>80.0</td>\n",
       "      <td>China</td>\n",
       "      <td>CHN</td>\n",
       "      <td>1992 Summer</td>\n",
       "      <td>1992</td>\n",
       "      <td>Summer</td>\n",
       "      <td>Barcelona</td>\n",
       "      <td>Basketball</td>\n",
       "      <td>Basketball Men's Basketball</td>\n",
       "      <td>NaN</td>\n",
       "    </tr>\n",
       "    <tr>\n",
       "      <th>1</th>\n",
       "      <td>2</td>\n",
       "      <td>A Lamusi</td>\n",
       "      <td>M</td>\n",
       "      <td>23.0</td>\n",
       "      <td>170.0</td>\n",
       "      <td>60.0</td>\n",
       "      <td>China</td>\n",
       "      <td>CHN</td>\n",
       "      <td>2012 Summer</td>\n",
       "      <td>2012</td>\n",
       "      <td>Summer</td>\n",
       "      <td>London</td>\n",
       "      <td>Judo</td>\n",
       "      <td>Judo Men's Extra-Lightweight</td>\n",
       "      <td>NaN</td>\n",
       "    </tr>\n",
       "    <tr>\n",
       "      <th>2</th>\n",
       "      <td>3</td>\n",
       "      <td>Gunnar Nielsen Aaby</td>\n",
       "      <td>M</td>\n",
       "      <td>24.0</td>\n",
       "      <td>NaN</td>\n",
       "      <td>NaN</td>\n",
       "      <td>Denmark</td>\n",
       "      <td>DEN</td>\n",
       "      <td>1920 Summer</td>\n",
       "      <td>1920</td>\n",
       "      <td>Summer</td>\n",
       "      <td>Antwerpen</td>\n",
       "      <td>Football</td>\n",
       "      <td>Football Men's Football</td>\n",
       "      <td>NaN</td>\n",
       "    </tr>\n",
       "  </tbody>\n",
       "</table>\n",
       "</div>"
      ],
      "text/plain": [
       "   ID                 Name Sex   Age  Height  Weight     Team  NOC  \\\n",
       "0   1            A Dijiang   M  24.0   180.0    80.0    China  CHN   \n",
       "1   2             A Lamusi   M  23.0   170.0    60.0    China  CHN   \n",
       "2   3  Gunnar Nielsen Aaby   M  24.0     NaN     NaN  Denmark  DEN   \n",
       "\n",
       "         Games  Year  Season       City       Sport  \\\n",
       "0  1992 Summer  1992  Summer  Barcelona  Basketball   \n",
       "1  2012 Summer  2012  Summer     London        Judo   \n",
       "2  1920 Summer  1920  Summer  Antwerpen    Football   \n",
       "\n",
       "                          Event Medal  \n",
       "0   Basketball Men's Basketball   NaN  \n",
       "1  Judo Men's Extra-Lightweight   NaN  \n",
       "2       Football Men's Football   NaN  "
      ]
     },
     "execution_count": 5,
     "metadata": {},
     "output_type": "execute_result"
    }
   ],
   "source": [
    "athlete_data.head(3)"
   ]
  },
  {
   "cell_type": "code",
   "execution_count": 35,
   "metadata": {},
   "outputs": [
    {
     "ename": "NameError",
     "evalue": "name 'winter_edited' is not defined",
     "output_type": "error",
     "traceback": [
      "\u001b[1;31m---------------------------------------------------------------------------\u001b[0m",
      "\u001b[1;31mNameError\u001b[0m                                 Traceback (most recent call last)",
      "\u001b[1;32m<ipython-input-35-22c740a0a986>\u001b[0m in \u001b[0;36m<module>\u001b[1;34m\u001b[0m\n\u001b[1;32m----> 1\u001b[1;33m \u001b[0mwinter_edited\u001b[0m \u001b[1;33m=\u001b[0m \u001b[0mwinter_edited\u001b[0m\u001b[1;33m.\u001b[0m\u001b[0mrename\u001b[0m\u001b[1;33m(\u001b[0m\u001b[0mcolumns\u001b[0m\u001b[1;33m=\u001b[0m \u001b[1;33m{\u001b[0m\u001b[1;34m\"Grand Total\"\u001b[0m\u001b[1;33m:\u001b[0m \u001b[1;34m\"Weighted Total\"\u001b[0m\u001b[1;33m}\u001b[0m\u001b[1;33m)\u001b[0m\u001b[1;33m\u001b[0m\u001b[1;33m\u001b[0m\u001b[0m\n\u001b[0m\u001b[0;32m      2\u001b[0m \u001b[0mpopulation_data\u001b[0m \u001b[1;33m=\u001b[0m \u001b[0mpopulation_data\u001b[0m\u001b[1;33m.\u001b[0m\u001b[0mrename\u001b[0m\u001b[1;33m(\u001b[0m\u001b[0mcolumns\u001b[0m\u001b[1;33m=\u001b[0m \u001b[1;33m{\u001b[0m\u001b[1;34m\"Country (code)\"\u001b[0m\u001b[1;33m:\u001b[0m \u001b[1;34m\"Country Code\"\u001b[0m\u001b[1;33m}\u001b[0m\u001b[1;33m)\u001b[0m\u001b[1;33m\u001b[0m\u001b[1;33m\u001b[0m\u001b[0m\n\u001b[0;32m      3\u001b[0m \u001b[0mpopulation_data\u001b[0m\u001b[1;33m[\u001b[0m\u001b[1;34m\"Population (2018)\"\u001b[0m\u001b[1;33m]\u001b[0m \u001b[1;33m=\u001b[0m \u001b[0mpopulation_data\u001b[0m\u001b[1;33m[\u001b[0m\u001b[1;34m\"Population (2018)\"\u001b[0m\u001b[1;33m]\u001b[0m\u001b[1;33m.\u001b[0m\u001b[0mdiv\u001b[0m\u001b[1;33m(\u001b[0m\u001b[1;36m1000000\u001b[0m\u001b[1;33m)\u001b[0m\u001b[1;33m\u001b[0m\u001b[1;33m\u001b[0m\u001b[0m\n",
      "\u001b[1;31mNameError\u001b[0m: name 'winter_edited' is not defined"
     ]
    }
   ],
   "source": [
    "winter_edited = winter_edited.rename(columns= {\"Grand Total\": \"Weighted Total\"})\n",
    "population_data = population_data.rename(columns= {\"Country (code)\": \"Country Code\"})\n",
    "population_data[\"Population (2018)\"] = population_data[\"Population (2018)\"].div(1000000)"
   ]
  },
  {
   "cell_type": "markdown",
   "metadata": {},
   "source": [
    "## How did major wars affect the country's performance and attendence in the Olympic games?"
   ]
  },
  {
   "cell_type": "markdown",
   "metadata": {},
   "source": [
    "United States"
   ]
  },
  {
   "cell_type": "code",
   "execution_count": 7,
   "metadata": {},
   "outputs": [
    {
     "data": {
      "image/png": "[encoded data removed]",
      "text/plain": [
       "<Figure size 432x288 with 1 Axes>"
      ]
     },
     "metadata": {
      "needs_background": "light"
     },
     "output_type": "display_data"
    }
   ],
   "source": [
    "usa_data = athlete_data.loc[athlete_data['Team']=='United States']\n",
    "usa_summer_data = usa_data.loc[usa_data['Season']=='Summer'].groupby(['Year'])['ID'].nunique()\n",
    "usa_summer_data_df = pd.DataFrame(usa_summer_data).rename(columns = {'ID':'Athlete Count'})\n",
    "usa_winter_data = usa_data.loc[usa_data['Season']=='Winter'].groupby(['Year'])['ID'].nunique()\n",
    "usa_winter_data_df = pd.DataFrame(usa_winter_data).rename(columns = {'ID':'Athlete Count'})\n",
    "\n",
    "(slope, intercept, _, _, _) = linregress(usa_summer_data_df.index,  usa_summer_data_df['Athlete Count'])\n",
    "fit = slope * usa_summer_data_df.index + intercept\n",
    "\n",
    "plt.plot(usa_summer_data_df.index, usa_summer_data_df['Athlete Count'], marker = 'o',markersize = 0.5, linewidth = 0.5)\n",
    "plt.plot(usa_summer_data_df.index, fit, 'b--', linewidth = 0.5)\n",
    "\n",
    "grid = plt.grid(which = 'major', axis = 'both', alpha = 0.5)\n",
    "wwII = plt.axvspan(1939,1945,0,1, alpha = 0.3, facecolor = 'y')\n",
    "vietnam = plt.axvspan(1959,1975,0,1, alpha = 0.3, facecolor = 'r')\n",
    "iraq = plt.axvspan(2003, 2011, 0, 1, alpha = 0.3, facecolor = 'b', label = 'Iraq War')\n",
    "\n",
    "yellow_patch = mpatches.Patch(color='y', alpha = 0.3, label='World War II')\n",
    "red_patch = mpatches.Patch(color = 'r', alpha = 0.3, label = 'Vietnam War')\n",
    "blue_patch = mpatches.Patch(color = 'b', alpha = 0.3, label = 'Iraq War')\n",
    "\n",
    "plt.legend(handles=[yellow_patch, red_patch, blue_patch])\n",
    "plt.xlabel('Year')\n",
    "plt.ylabel('Athlete Count')\n",
    "plt.title('United States Athlete Count By Year')\n",
    "\n",
    "plt.show()"
   ]
  },
  {
   "cell_type": "markdown",
   "metadata": {},
   "source": [
    "Russia (Soviet Union)"
   ]
  },
  {
   "cell_type": "code",
   "execution_count": 36,
   "metadata": {},
   "outputs": [
    {
     "data": {
      "text/plain": [
       "Text(0.5, 1.0, 'Russian Athlete Count By Year')"
      ]
     },
     "execution_count": 36,
     "metadata": {},
     "output_type": "execute_result"
    },
    {
     "data": {
      "image/png": "[encoded data removed]",
      "text/plain": [
       "<Figure size 432x288 with 1 Axes>"
      ]
     },
     "metadata": {
      "needs_background": "light"
     },
     "output_type": "display_data"
    }
   ],
   "source": [
    "soviet_data = athlete_data.loc[athlete_data['Team'].isin(['Russia','Soviet Union'])]\n",
    "soviet_summer_data = soviet_data.loc[soviet_data['Season']=='Summer'].groupby(['Year'])['ID'].nunique()\n",
    "soviet_summer_data_df = pd.DataFrame(soviet_summer_data).rename(columns = {'ID':'Athlete Count'})\n",
    "\n",
    "(slope, intercept, _, _, _) = linregress(soviet_summer_data_df.index,  soviet_summer_data_df['Athlete Count'])\n",
    "fit = slope * soviet_summer_data_df.index + intercept\n",
    "\n",
    "plt.plot(soviet_summer_data_df.index, soviet_summer_data_df['Athlete Count'], marker = 'o',linewidth = 0.5, markersize = 0.5,)\n",
    "plt.plot(soviet_summer_data_df.index, fit, 'b--', linewidth = 0.5)\n",
    "\n",
    "grid = plt.grid(which = 'major', axis = 'both', alpha = 0.5)\n",
    "wwI = plt.axvspan(1917,1921,0,1, alpha = 0.3, facecolor = 'y')\n",
    "wwII = plt.axvspan(1939,1945,0,1, alpha = 0.3, facecolor = 'r')\n",
    "soviet_afghan = plt.axvspan(1979, 1989, 0, 1, alpha = 0.3, facecolor = 'b')\n",
    "\n",
    "yellow_patch = mpatches.Patch(color='y', alpha = 0.3, label='Russian Civil War')\n",
    "red_patch = mpatches.Patch(color = 'r', alpha = 0.3, label = 'World War II')\n",
    "blue_patch = mpatches.Patch(color = 'b', alpha = 0.3, label = 'Soviet Afghan War')\n",
    "\n",
    "plt.legend(handles=[yellow_patch, red_patch, blue_patch])\n",
    "plt.xlabel('Year')\n",
    "plt.ylabel('Athlete Count')\n",
    "plt.title('Russian Athlete Count By Year')"
   ]
  },
  {
   "cell_type": "markdown",
   "metadata": {},
   "source": [
    "Germany"
   ]
  },
  {
   "cell_type": "code",
   "execution_count": 37,
   "metadata": {},
   "outputs": [
    {
     "data": {
      "text/plain": [
       "Text(0.5, 1.0, 'Germany Athlete Count By Year')"
      ]
     },
     "execution_count": 37,
     "metadata": {},
     "output_type": "execute_result"
    },
    {
     "data": {
      "image/png": "[encoded data removed]",
      "text/plain": [
       "<Figure size 432x288 with 1 Axes>"
      ]
     },
     "metadata": {
      "needs_background": "light"
     },
     "output_type": "display_data"
    }
   ],
   "source": [
    "germany_data = athlete_data.loc[athlete_data['Team'].isin(['Germany','East Germany', 'West Germany'])]\n",
    "germany_summer_data = germany_data.loc[germany_data['Season']=='Summer'].groupby(['Year'])['ID'].nunique()\n",
    "germany_summer_data_df = pd.DataFrame(germany_summer_data).rename(columns = {'ID':'Athlete Count'})\n",
    "\n",
    "(slope, intercept, _, _, _) = linregress(germany_summer_data_df.index,  germany_summer_data_df['Athlete Count'])\n",
    "fit = slope * germany_summer_data_df.index + intercept\n",
    "\n",
    "plt.plot(germany_summer_data_df.index, germany_summer_data_df['Athlete Count'], marker = 'o',linewidth = 0.5, markersize = 0.5,)\n",
    "plt.plot(germany_summer_data_df.index, fit, 'b--', linewidth = 0.5)\n",
    "\n",
    "wwI = plt.axvspan(1917,1921,0,1, alpha = 0.3, facecolor = 'y')\n",
    "wwII = plt.axvspan(1939,1945,0,1, alpha = 0.3, facecolor = 'r')\n",
    "\n",
    "yellow_patch = mpatches.Patch(color='y', alpha = 0.3, label='World War I')\n",
    "red_patch = mpatches.Patch(color = 'r', alpha = 0.3, label = 'World War II')\n",
    "\n",
    "plt.legend(handles=[yellow_patch, red_patch], loc = 'best')\n",
    "plt.xlabel('Year')\n",
    "plt.ylabel('Athlete Count')\n",
    "plt.title('Germany Athlete Count By Year')"
   ]
  },
  {
   "cell_type": "markdown",
   "metadata": {},
   "source": [
    "Analysis & Conclusion: \n",
    "\n",
    " The conclusions we found were mostly in line with our hypothesis but not necessarily conclusive. When we review each country, we see that the US had a drop off following WWII and participation remained low throughout the Vietnam war. After the war ended participation increased again with maybe a slight dip during and after the Iraq war.\n",
    "\n",
    " Russia’s population was decimated by the Russian Revolution and as a result, there were only 3 Russian participants in 1924. Russia did not participate in the Olympic games again until 1948 where participation remained increasingly high until the soviet afghan war and ever since it has been on a decline in both medal count and participation. \n",
    "\n",
    " Germany’s data is more scattered, but participation peaked in 1936 prior to WWII and then dropped by approximately 230 people in 1948. \n",
    "\n",
    " For France and Britain, it is difficult to derive any hard conclusions, but participation dropped for an extended period of time following WWII. Interestingly for both, despite steady rise in participation, medal count has been relatively stagnant.\n",
    " \n",
    " Finally, another accidental finding by tracking medal count throughout the Olympics is correlation between hosting the Olympics and medal count. It isn’t shown in the graphs, however, each dramatic spike in both attendance and medal count is almost always associated with being the host country. This isn’t necessarily surprising, but noteworthy, nonetheless. "
   ]
  },
  {
   "cell_type": "markdown",
   "metadata": {},
   "source": [
    "## Does a Country's population have an affect on their Olympic medal count?"
   ]
  },
  {
   "cell_type": "code",
   "execution_count": 10,
   "metadata": {},
   "outputs": [
    {
     "ename": "NameError",
     "evalue": "name 'winter_edited' is not defined",
     "output_type": "error",
     "traceback": [
      "\u001b[1;31m---------------------------------------------------------------------------\u001b[0m",
      "\u001b[1;31mNameError\u001b[0m                                 Traceback (most recent call last)",
      "\u001b[1;32m<ipython-input-10-a60f8e020260>\u001b[0m in \u001b[0;36m<module>\u001b[1;34m\u001b[0m\n\u001b[0;32m      1\u001b[0m \u001b[1;31m#Build Population Dataframes\u001b[0m\u001b[1;33m\u001b[0m\u001b[1;33m\u001b[0m\u001b[1;33m\u001b[0m\u001b[0m\n\u001b[1;32m----> 2\u001b[1;33m \u001b[0mwinter_edited\u001b[0m \u001b[1;33m=\u001b[0m \u001b[0mwinter_edited\u001b[0m\u001b[1;33m.\u001b[0m\u001b[0mrename\u001b[0m\u001b[1;33m(\u001b[0m\u001b[0mcolumns\u001b[0m\u001b[1;33m=\u001b[0m \u001b[1;33m{\u001b[0m\u001b[1;34m\"Grand Total\"\u001b[0m\u001b[1;33m:\u001b[0m \u001b[1;34m\"Weighted Total\"\u001b[0m\u001b[1;33m}\u001b[0m\u001b[1;33m)\u001b[0m\u001b[1;33m\u001b[0m\u001b[1;33m\u001b[0m\u001b[0m\n\u001b[0m\u001b[0;32m      3\u001b[0m \u001b[0mpopulation_data\u001b[0m \u001b[1;33m=\u001b[0m \u001b[0mpopulation_data\u001b[0m\u001b[1;33m.\u001b[0m\u001b[0mrename\u001b[0m\u001b[1;33m(\u001b[0m\u001b[0mcolumns\u001b[0m\u001b[1;33m=\u001b[0m \u001b[1;33m{\u001b[0m\u001b[1;34m\"Country (code)\"\u001b[0m\u001b[1;33m:\u001b[0m \u001b[1;34m\"Country Code\"\u001b[0m\u001b[1;33m}\u001b[0m\u001b[1;33m)\u001b[0m\u001b[1;33m\u001b[0m\u001b[1;33m\u001b[0m\u001b[0m\n\u001b[0;32m      4\u001b[0m \u001b[0mpopulation_data\u001b[0m\u001b[1;33m[\u001b[0m\u001b[1;34m\"Population (2018)\"\u001b[0m\u001b[1;33m]\u001b[0m \u001b[1;33m=\u001b[0m \u001b[0mpopulation_data\u001b[0m\u001b[1;33m[\u001b[0m\u001b[1;34m\"Population (2018)\"\u001b[0m\u001b[1;33m]\u001b[0m\u001b[1;33m.\u001b[0m\u001b[0mdiv\u001b[0m\u001b[1;33m(\u001b[0m\u001b[1;36m1000000\u001b[0m\u001b[1;33m)\u001b[0m\u001b[1;33m\u001b[0m\u001b[1;33m\u001b[0m\u001b[0m\n",
      "\u001b[1;31mNameError\u001b[0m: name 'winter_edited' is not defined"
     ]
    }
   ],
   "source": [
    "#Build Population Dataframes\n",
    "winter_edited = winter_edited.rename(columns= {\"Grand Total\": \"Weighted Total\"})\n",
    "population_data = population_data.rename(columns= {\"Country (code)\": \"Country Code\"})\n",
    "population_data[\"Population (2018)\"] = population_data[\"Population (2018)\"].div(1000000)"
   ]
  },
  {
   "cell_type": "code",
   "execution_count": 11,
   "metadata": {},
   "outputs": [
    {
     "ename": "NameError",
     "evalue": "name 'medals_population_merged' is not defined",
     "output_type": "error",
     "traceback": [
      "\u001b[1;31m---------------------------------------------------------------------------\u001b[0m",
      "\u001b[1;31mNameError\u001b[0m                                 Traceback (most recent call last)",
      "\u001b[1;32m<ipython-input-11-8edff8e25bca>\u001b[0m in \u001b[0;36m<module>\u001b[1;34m\u001b[0m\n\u001b[0;32m      1\u001b[0m \u001b[1;31m#Plot of combined medals and population\u001b[0m\u001b[1;33m\u001b[0m\u001b[1;33m\u001b[0m\u001b[1;33m\u001b[0m\u001b[0m\n\u001b[0;32m      2\u001b[0m \u001b[1;33m\u001b[0m\u001b[0m\n\u001b[1;32m----> 3\u001b[1;33m \u001b[1;33m(\u001b[0m\u001b[0mslope\u001b[0m\u001b[1;33m,\u001b[0m \u001b[0mintercept\u001b[0m\u001b[1;33m,\u001b[0m \u001b[0mr_value\u001b[0m\u001b[1;33m,\u001b[0m \u001b[0m_\u001b[0m\u001b[1;33m,\u001b[0m \u001b[0m_\u001b[0m\u001b[1;33m)\u001b[0m \u001b[1;33m=\u001b[0m \u001b[0mlinregress\u001b[0m\u001b[1;33m(\u001b[0m\u001b[0mmedals_population_merged\u001b[0m\u001b[1;33m[\u001b[0m\u001b[1;34m\"Combined Total\"\u001b[0m\u001b[1;33m]\u001b[0m\u001b[1;33m,\u001b[0m \u001b[0mmedals_population_merged\u001b[0m\u001b[1;33m[\u001b[0m\u001b[1;34m\"Population (2018)\"\u001b[0m\u001b[1;33m]\u001b[0m\u001b[1;33m)\u001b[0m\u001b[1;33m\u001b[0m\u001b[1;33m\u001b[0m\u001b[0m\n\u001b[0m\u001b[0;32m      4\u001b[0m \u001b[0mfit\u001b[0m \u001b[1;33m=\u001b[0m \u001b[0mslope\u001b[0m \u001b[1;33m*\u001b[0m  \u001b[0mmedals_population_merged\u001b[0m\u001b[1;33m[\u001b[0m\u001b[1;34m\"Combined Total\"\u001b[0m\u001b[1;33m]\u001b[0m \u001b[1;33m+\u001b[0m \u001b[0mintercept\u001b[0m\u001b[1;33m\u001b[0m\u001b[1;33m\u001b[0m\u001b[0m\n\u001b[0;32m      5\u001b[0m \u001b[1;33m\u001b[0m\u001b[0m\n",
      "\u001b[1;31mNameError\u001b[0m: name 'medals_population_merged' is not defined"
     ]
    }
   ],
   "source": [
    "#Plot of combined medals and population \n",
    "\n",
    "(slope, intercept, r_value, _, _) = linregress(medals_population_merged[\"Combined Total\"], medals_population_merged[\"Population (2018)\"])\n",
    "fit = slope *  medals_population_merged[\"Combined Total\"] + intercept\n",
    "\n",
    "plt.title(\"Population vs Weighted Medals\")\n",
    "plt.xlabel(\"Weighted Combined Medals (since 1960)\")\n",
    "plt.ylabel(\"Population in millions (2018)\")\n",
    "plt.grid()\n",
    "\n",
    "plt.plot(medals_population_merged[\"Combined Total\"], fit, 'b--', linewidth = 1)\n",
    "plt.scatter(medals_population_merged[\"Combined Total\"], medals_population_merged[\"Population (2018)\"], color = \"red\")\n",
    "plt.show()"
   ]
  },
  {
   "cell_type": "code",
   "execution_count": 12,
   "metadata": {},
   "outputs": [
    {
     "ename": "NameError",
     "evalue": "name 'medals_population_merged' is not defined",
     "output_type": "error",
     "traceback": [
      "\u001b[1;31m---------------------------------------------------------------------------\u001b[0m",
      "\u001b[1;31mNameError\u001b[0m                                 Traceback (most recent call last)",
      "\u001b[1;32m<ipython-input-12-5710b06582f1>\u001b[0m in \u001b[0;36m<module>\u001b[1;34m\u001b[0m\n\u001b[1;32m----> 1\u001b[1;33m \u001b[0mmedals_population_merged\u001b[0m \u001b[1;33m=\u001b[0m \u001b[0mmedals_population_merged\u001b[0m\u001b[1;33m[\u001b[0m\u001b[0mmedals_population_merged\u001b[0m\u001b[1;33m[\u001b[0m\u001b[1;34m\"Country Code\"\u001b[0m\u001b[1;33m]\u001b[0m \u001b[1;33m!=\u001b[0m \u001b[1;34m\"USA\"\u001b[0m\u001b[1;33m]\u001b[0m\u001b[1;33m\u001b[0m\u001b[1;33m\u001b[0m\u001b[0m\n\u001b[0m\u001b[0;32m      2\u001b[0m \u001b[0mmedals_population_merged\u001b[0m \u001b[1;33m=\u001b[0m \u001b[0mmedals_population_merged\u001b[0m\u001b[1;33m[\u001b[0m\u001b[0mmedals_population_merged\u001b[0m\u001b[1;33m[\u001b[0m\u001b[1;34m\"Country Code\"\u001b[0m\u001b[1;33m]\u001b[0m \u001b[1;33m!=\u001b[0m \u001b[1;34m\"CHN\"\u001b[0m\u001b[1;33m]\u001b[0m\u001b[1;33m\u001b[0m\u001b[1;33m\u001b[0m\u001b[0m\n\u001b[0;32m      3\u001b[0m \u001b[1;33m\u001b[0m\u001b[0m\n\u001b[0;32m      4\u001b[0m \u001b[0mplt\u001b[0m\u001b[1;33m.\u001b[0m\u001b[0mscatter\u001b[0m\u001b[1;33m(\u001b[0m\u001b[0mmedals_population_merged\u001b[0m\u001b[1;33m[\u001b[0m\u001b[1;34m\"Combined Total\"\u001b[0m\u001b[1;33m]\u001b[0m\u001b[1;33m,\u001b[0m \u001b[0mmedals_population_merged\u001b[0m\u001b[1;33m[\u001b[0m\u001b[1;34m\"Population (2018)\"\u001b[0m\u001b[1;33m]\u001b[0m\u001b[1;33m,\u001b[0m \u001b[0mcolor\u001b[0m \u001b[1;33m=\u001b[0m \u001b[1;34m\"red\"\u001b[0m\u001b[1;33m)\u001b[0m\u001b[1;33m\u001b[0m\u001b[1;33m\u001b[0m\u001b[0m\n\u001b[0;32m      5\u001b[0m \u001b[1;33m\u001b[0m\u001b[0m\n",
      "\u001b[1;31mNameError\u001b[0m: name 'medals_population_merged' is not defined"
     ]
    }
   ],
   "source": [
    "medals_population_merged = medals_population_merged[medals_population_merged[\"Country Code\"] != \"USA\"]\n",
    "medals_population_merged = medals_population_merged[medals_population_merged[\"Country Code\"] != \"CHN\"]\n",
    "\n",
    "plt.scatter(medals_population_merged[\"Combined Total\"], medals_population_merged[\"Population (2018)\"], color = \"red\")\n",
    "\n",
    "(slope, intercept, r_value, _, _) = linregress(medals_population_merged[\"Combined Total\"], medals_population_merged[\"Population (2018)\"])\n",
    "fit = slope *  medals_population_merged[\"Combined Total\"] + intercept\n",
    "\n",
    "plt.plot(medals_population_merged[\"Combined Total\"], fit, 'b--', linewidth = 1)\n",
    "\n",
    "plt.title(\"Population vs Weighted Medals (without USA and China)\")\n",
    "plt.xlabel(\"Weighted Combined Medals (since 1960)\")\n",
    "plt.ylabel(\"Population in millions (2018)\")\n",
    "plt.grid()\n",
    "plt.show()\n",
    "\n",
    "r_squared_total = r_value **2\n",
    "print(f\"R Squared: {r_squared_total_nonUS}\")"
   ]
  },
  {
   "cell_type": "code",
   "execution_count": 13,
   "metadata": {},
   "outputs": [
    {
     "ename": "NameError",
     "evalue": "name 'summer_edited' is not defined",
     "output_type": "error",
     "traceback": [
      "\u001b[1;31m---------------------------------------------------------------------------\u001b[0m",
      "\u001b[1;31mNameError\u001b[0m                                 Traceback (most recent call last)",
      "\u001b[1;32m<ipython-input-13-b4fcbde55b63>\u001b[0m in \u001b[0;36m<module>\u001b[1;34m\u001b[0m\n\u001b[1;32m----> 1\u001b[1;33m \u001b[0mmedals_population_summer\u001b[0m \u001b[1;33m=\u001b[0m \u001b[0mpd\u001b[0m\u001b[1;33m.\u001b[0m\u001b[0mmerge\u001b[0m\u001b[1;33m(\u001b[0m\u001b[0msummer_edited\u001b[0m\u001b[1;33m,\u001b[0m \u001b[0mpopulation_data\u001b[0m\u001b[1;33m,\u001b[0m \u001b[0mon\u001b[0m\u001b[1;33m=\u001b[0m\u001b[1;34m\"Country Code\"\u001b[0m\u001b[1;33m)\u001b[0m\u001b[1;33m\u001b[0m\u001b[1;33m\u001b[0m\u001b[0m\n\u001b[0m\u001b[0;32m      2\u001b[0m \u001b[0mmedals_population_summer\u001b[0m\u001b[1;33m.\u001b[0m\u001b[0mhead\u001b[0m\u001b[1;33m(\u001b[0m\u001b[1;33m)\u001b[0m\u001b[1;33m\u001b[0m\u001b[1;33m\u001b[0m\u001b[0m\n",
      "\u001b[1;31mNameError\u001b[0m: name 'summer_edited' is not defined"
     ]
    }
   ],
   "source": [
    "medals_population_summer = pd.merge(summer_edited, population_data, on=\"Country Code\")\n",
    "medals_population_summer.head()"
   ]
  },
  {
   "cell_type": "code",
   "execution_count": 14,
   "metadata": {},
   "outputs": [
    {
     "ename": "NameError",
     "evalue": "name 'medals_population_summer' is not defined",
     "output_type": "error",
     "traceback": [
      "\u001b[1;31m---------------------------------------------------------------------------\u001b[0m",
      "\u001b[1;31mNameError\u001b[0m                                 Traceback (most recent call last)",
      "\u001b[1;32m<ipython-input-14-8d52558cec70>\u001b[0m in \u001b[0;36m<module>\u001b[1;34m\u001b[0m\n\u001b[1;32m----> 1\u001b[1;33m \u001b[0mmedals_population_summer\u001b[0m\u001b[1;33m[\u001b[0m\u001b[1;34m'Weighted Total'\u001b[0m\u001b[1;33m]\u001b[0m \u001b[1;33m=\u001b[0m \u001b[0mmedals_population_summer\u001b[0m\u001b[1;33m[\u001b[0m\u001b[1;34m'Weighted Total'\u001b[0m\u001b[1;33m]\u001b[0m\u001b[1;33m.\u001b[0m\u001b[0mastype\u001b[0m\u001b[1;33m(\u001b[0m\u001b[0mfloat\u001b[0m\u001b[1;33m)\u001b[0m\u001b[1;33m\u001b[0m\u001b[1;33m\u001b[0m\u001b[0m\n\u001b[0m\u001b[0;32m      2\u001b[0m \u001b[1;33m\u001b[0m\u001b[0m\n\u001b[0;32m      3\u001b[0m \u001b[0mx\u001b[0m \u001b[1;33m=\u001b[0m \u001b[0mmedals_population_summer\u001b[0m\u001b[1;33m[\u001b[0m\u001b[1;34m\"Weighted Total\"\u001b[0m\u001b[1;33m]\u001b[0m\u001b[1;33m.\u001b[0m\u001b[0mvalues\u001b[0m\u001b[1;33m\u001b[0m\u001b[1;33m\u001b[0m\u001b[0m\n\u001b[0;32m      4\u001b[0m \u001b[0my\u001b[0m \u001b[1;33m=\u001b[0m \u001b[0mmedals_population_summer\u001b[0m\u001b[1;33m[\u001b[0m\u001b[1;34m\"Population (2018)\"\u001b[0m\u001b[1;33m]\u001b[0m\u001b[1;33m.\u001b[0m\u001b[0mvalues\u001b[0m\u001b[1;33m\u001b[0m\u001b[1;33m\u001b[0m\u001b[0m\n\u001b[0;32m      5\u001b[0m \u001b[1;33m\u001b[0m\u001b[0m\n",
      "\u001b[1;31mNameError\u001b[0m: name 'medals_population_summer' is not defined"
     ]
    }
   ],
   "source": [
    "medals_population_summer['Weighted Total'] = medals_population_summer['Weighted Total'].astype(float)\n",
    "\n",
    "x = medals_population_summer[\"Weighted Total\"].values\n",
    "y = medals_population_summer[\"Population (2018)\"].values\n",
    "\n",
    "# Plot of Summer Medals vs Population \n",
    "\n",
    "mask = ~np.isnan(x) & ~np.isnan(y)\n",
    "slope, intercept, r_value, p_value, std_err = linregress(x[mask], y[mask])\n",
    "\n",
    "plt.scatter(x[mask], y[mask], color = \"red\")\n",
    "\n",
    "fit = slope *  x[mask] + intercept\n",
    "\n",
    "plt.plot(x[mask], fit, 'b--', linewidth = 1)\n",
    "\n",
    "plt.title(\"Population vs Weighted Medals (Summer)\")\n",
    "plt.xlabel(\"Weighted Summer Medals (since 1960)\")\n",
    "plt.ylabel(\"Population in millions (2018)\")\n",
    "plt.grid()\n",
    "plt.show()"
   ]
  },
  {
   "cell_type": "code",
   "execution_count": null,
   "metadata": {
    "scrolled": true
   },
   "outputs": [],
   "source": [
    "medals_population_summer = medals_population_summer[medals_population_summer[\"Country Code\"] != \"USA\"]\n",
    "medals_population_summer = medals_population_summer[medals_population_summer[\"Country Code\"] != \"CHN\"]\n",
    "medals_population_summer = medals_population_summer[medals_population_summer[\"Country Code\"] != \"IND\"]\n",
    "\n",
    "x = medals_population_summer[\"Weighted Total\"].values\n",
    "y = medals_population_summer[\"Population (2018)\"].values\n",
    "\n",
    "mask = ~np.isnan(x) & ~np.isnan(y)\n",
    "slope, intercept, r_value, p_value, std_err = linregress(x[mask], y[mask])\n",
    "\n",
    "plt.scatter(x[mask], y[mask])\n",
    "\n",
    "fit = slope *  x[mask] + intercept\n",
    "\n",
    "plt.plot(x[mask], fit, 'b--', linewidth = 1)\n",
    "\n",
    "plt.scatter(medals_population_summer[\"Weighted Total\"], medals_population_summer[\"Population (2018)\"], color = \"red\")\n",
    "plt.title(\"Population vs Weighted Medals (Summer without USA, CHN, IND)\")\n",
    "plt.xlabel(\"Weighted Summer Medals (since 1960)\")\n",
    "plt.ylabel(\"Population in millions (2018)\")\n",
    "plt.grid()\n",
    "plt.show()\n",
    "\n",
    "r_squared_summer = r_value ** 2 \n",
    "\n",
    "print(f\"R Squared: {r_squared_summer}\")"
   ]
  },
  {
   "cell_type": "markdown",
   "metadata": {},
   "source": [
    "Analysis & Conclusion: \n"
   ]
  },
  {
   "cell_type": "markdown",
   "metadata": {},
   "source": [
    "# How has the composition of male and female competitors over the years for the USA, China, and Russia?"
   ]
  },
  {
   "cell_type": "code",
   "execution_count": 15,
   "metadata": {},
   "outputs": [
    {
     "data": {
      "image/png": "[encoded data removed]",
      "text/plain": [
       "<Figure size 432x288 with 1 Axes>"
      ]
     },
     "metadata": {
      "needs_background": "light"
     },
     "output_type": "display_data"
    }
   ],
   "source": [
    "#Male vs Female for US: \n",
    "\n",
    "usa_data = athlete_data.loc[athlete_data['Team']=='United States']\n",
    "\n",
    "usa_male_data = usa_data.loc[usa_data['Sex']=='M'].groupby(['Year'])['ID'].nunique()\n",
    "usa_male_data_df = pd.DataFrame(usa_male_data).rename(columns = {'ID':'Male'})\n",
    "\n",
    "usa_female_data = usa_data.loc[usa_data['Sex']=='F'].groupby(['Year'])['ID'].nunique()\n",
    "usa_female_data_df = pd.DataFrame(usa_female_data).rename(columns = {'ID':'Female'})\n",
    "\n",
    "usa_m_f = pd.merge(usa_male_data_df, usa_female_data_df, on=\"Year\")\n",
    "\n",
    "bar_width = 0.4\n",
    "plt.bar( usa_m_f.index + bar_width, usa_m_f[\"Male\"], label= \"Male\", color=\"blue\")\n",
    "plt.bar( usa_m_f.index - bar_width, usa_m_f[\"Female\"], label= \"Female\", color=\"red\")\n",
    "\n",
    "\n",
    "plt.legend()\n",
    "plt.tight_layout()\n",
    "plt.title(\"USA Participants Comparison\")\n",
    "plt.xlabel(\"Year of Olympics\")\n",
    "plt.ylabel(\"Total Participants\")\n",
    "#plt.xticks(usa_m_f.index)\n",
    "plt.xlim([1957, 2020])\n",
    "plt.show()"
   ]
  },
  {
   "cell_type": "markdown",
   "metadata": {},
   "source": [
    "China Male v. Female"
   ]
  },
  {
   "cell_type": "code",
   "execution_count": 16,
   "metadata": {},
   "outputs": [
    {
     "data": {
      "image/png": "[encoded data removed]",
      "text/plain": [
       "<Figure size 432x288 with 1 Axes>"
      ]
     },
     "metadata": {
      "needs_background": "light"
     },
     "output_type": "display_data"
    }
   ],
   "source": [
    "#Male vs Female for China\n",
    "\n",
    "china_data = athlete_data.loc[athlete_data['Team']=='China']\n",
    "\n",
    "china_male_data = china_data.loc[china_data['Sex']=='M'].groupby(['Year'])['ID'].nunique()\n",
    "china_male_data_df = pd.DataFrame(china_male_data).rename(columns = {'ID':'Male'})\n",
    "\n",
    "china_female_data = china_data.loc[china_data['Sex']=='F'].groupby(['Year'])['ID'].nunique()\n",
    "china_female_data_df = pd.DataFrame(china_female_data).rename(columns = {'ID':'Female'})\n",
    "\n",
    "china_m_f = pd.merge(china_male_data_df, china_female_data_df, on=\"Year\")\n",
    "\n",
    "bar_width = 0.4\n",
    "plt.bar( china_m_f.index + bar_width, china_m_f[\"Male\"], label= \"Male\", color=\"blue\")\n",
    "plt.bar( china_m_f.index - bar_width, china_m_f[\"Female\"], label= \"Female\", color=\"red\")\n",
    "plt.xlim([1975, 2020])\n",
    "plt.legend()\n",
    "plt.tight_layout()\n",
    "plt.title(\"China Participants Comparison\")\n",
    "plt.xlabel(\"Year of Olympics\")\n",
    "plt.ylabel(\"Total Participants\")\n",
    "plt.show()"
   ]
  },
  {
   "cell_type": "markdown",
   "metadata": {},
   "source": [
    "Russia Male v. Female"
   ]
  },
  {
   "cell_type": "code",
   "execution_count": 17,
   "metadata": {},
   "outputs": [
    {
     "data": {
      "image/png": "[encoded data removed]",
      "text/plain": [
       "<Figure size 432x288 with 1 Axes>"
      ]
     },
     "metadata": {
      "needs_background": "light"
     },
     "output_type": "display_data"
    }
   ],
   "source": [
    "rus_data = athlete_data.loc[athlete_data['Team']=='Russia']\n",
    "\n",
    "rus_male_data = rus_data.loc[rus_data['Sex']=='M'].groupby(['Year'])['ID'].nunique()\n",
    "rus_male_data_df = pd.DataFrame(rus_male_data).rename(columns = {'ID':'Male'})\n",
    "\n",
    "rus_female_data = rus_data.loc[rus_data['Sex']=='F'].groupby(['Year'])['ID'].nunique()\n",
    "rus_female_data_df = pd.DataFrame(rus_female_data).rename(columns = {'ID':'Female'})\n",
    "\n",
    "rus_m_f = pd.merge(rus_male_data_df, rus_female_data_df, on=\"Year\")\n",
    "\n",
    "bar_width = 0.4\n",
    "plt.bar( rus_m_f.index + bar_width, rus_m_f[\"Male\"], label= \"Male\", color=\"blue\")\n",
    "plt.bar( rus_m_f.index - bar_width, rus_m_f[\"Female\"], label= \"Female\", color=\"red\")\n",
    "plt.xlim([1993, 2018])\n",
    "plt.legend()\n",
    "plt.tight_layout()\n",
    "plt.title(\"Russia Participants Comparison\")\n",
    "plt.xlabel(\"Year of Olympics\")\n",
    "plt.ylabel(\"Total Participants\")\n",
    "plt.show()"
   ]
  },
  {
   "cell_type": "markdown",
   "metadata": {},
   "source": [
    "Analysis & Conclusion: \n",
    "\n"
   ]
  }
 ],
 "metadata": {
  "kernelspec": {
   "display_name": "Python 3",
   "language": "python",
   "name": "python3"
  },
  "language_info": {
   "codemirror_mode": {
    "name": "ipython",
    "version": 3
   },
   "file_extension": ".py",
   "mimetype": "text/x-python",
   "name": "python",
   "nbconvert_exporter": "python",
   "pygments_lexer": "ipython3",
   "version": "3.7.3"
  }
 },
 "nbformat": 4,
 "nbformat_minor": 2
}
