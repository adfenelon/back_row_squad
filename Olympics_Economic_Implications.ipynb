{
 "cells": [
  {
   "cell_type": "code",
   "execution_count": null,
   "metadata": {},
   "outputs": [],
   "source": [
    "#import dependencies\n",
    "import matplotlib.pyplot as plt\n",
    "import pandas as pd\n",
    "import numpy as np\n",
    "import requests\n",
    "import json\n",
    "\n",
    "#import api_key\n",
    "#from api_keys import api_key\n",
    "\n"
   ]
  },
  {
   "cell_type": "code",
   "execution_count": null,
   "metadata": {},
   "outputs": [],
   "source": [
    "#Is a Country’s GDP have any correlation to the Country’s Olympic performance? (Louis)\n",
    "     #1. Describe the anlysis process (code used to analyize the data)\n",
    "     #2.Summary of conclusions (incld. visisualization - plots) implications of your findings"
   ]
  },
  {
   "cell_type": "code",
   "execution_count": null,
   "metadata": {},
   "outputs": [],
   "source": [
    "#What is the percentage of GDP spent by the Country? Do the Olympic games have an adverse or beneficial effect on the host Country’s GDP? (Jacob)\n",
    "     #1. Describe the anlysis process (code used to analyize the data)\n",
    "     #2.Summary of conclusions (incld. visisualization - plots) implications of your findings"
   ]
  },
  {
   "cell_type": "code",
   "execution_count": null,
   "metadata": {},
   "outputs": [],
   "source": [
    "#How do major events(wars) affect the Country’s Olympic performance & attendance? (Nico)\n",
    "     #1. Describe the anlysis process (code used to analyize the data)\n",
    "     #2.Summary of conclusions (incld. visisualization - plots) implications of your findings"
   ]
  },
  {
   "cell_type": "code",
   "execution_count": null,
   "metadata": {},
   "outputs": [],
   "source": [
    "#Has the age of Olympians increased or decreased over time? Which sports is the change most prevalent?  (Alex)\n",
    "      #1. Describe the anlysis process (code used to analyize the data)\n",
    "      #2.Summary of conclusions (incld. visisualization - plots) implications of your findings"
   ]
  },
  {
   "cell_type": "code",
   "execution_count": null,
   "metadata": {},
   "outputs": [],
   "source": []
  }
 ],
 "metadata": {
  "kernelspec": {
   "display_name": "Python 3",
   "language": "python",
   "name": "python3"
  },
  "language_info": {
   "codemirror_mode": {
    "name": "ipython",
    "version": 3
   },
   "file_extension": ".py",
   "mimetype": "text/x-python",
   "name": "python",
   "nbconvert_exporter": "python",
   "pygments_lexer": "ipython3",
   "version": "3.7.3"
  }
 },
 "nbformat": 4,
 "nbformat_minor": 2
}
